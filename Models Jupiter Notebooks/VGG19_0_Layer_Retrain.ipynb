{
 "cells": [
  {
   "cell_type": "code",
   "execution_count": 1,
   "metadata": {
    "colab": {
     "base_uri": "https://localhost:8080/"
    },
    "id": "TOG2VaLub55l",
    "outputId": "836fe462-2776-424e-bc97-543232f86a7f"
   },
   "outputs": [
    {
     "name": "stdout",
     "output_type": "stream",
     "text": [
      "Drive already mounted at /content/drive; to attempt to forcibly remount, call drive.mount(\"/content/drive\", force_remount=True).\n"
     ]
    }
   ],
   "source": [
    "from google.colab import drive \r\n",
    "drive.mount('/content/drive')"
   ]
  },
  {
   "cell_type": "code",
   "execution_count": 2,
   "metadata": {
    "id": "cvtvjRoMc04d"
   },
   "outputs": [],
   "source": [
    "#from google.colab import files\r\n",
    "#files.upload()"
   ]
  },
  {
   "cell_type": "code",
   "execution_count": 3,
   "metadata": {
    "id": "lmikhmj-c5hF"
   },
   "outputs": [],
   "source": [
    "#!mkdir ~/.kaggle #created at root folder in colab"
   ]
  },
  {
   "cell_type": "code",
   "execution_count": 4,
   "metadata": {
    "id": "xIPG7bvldyJ1"
   },
   "outputs": [],
   "source": [
    "#copy\r\n",
    "#!cp kaggle.json ~/.kaggle\r\n",
    "#!chmod 600 ~/.kaggle/kaggle.json"
   ]
  },
  {
   "cell_type": "code",
   "execution_count": 5,
   "metadata": {
    "id": "KlFMo4Iwd9mA"
   },
   "outputs": [],
   "source": [
    "#!kaggle datasets download -d tawsifurrahman/covid19-radiography-database\r\n",
    "#!kaggle datasets download -d puneet6060/intel-image-classification"
   ]
  },
  {
   "cell_type": "code",
   "execution_count": 6,
   "metadata": {
    "id": "1-Yd8yCHfaXL"
   },
   "outputs": [],
   "source": [
    "#unzip dataset in colab session\r\n",
    "#!unzip -q covid19-radiography-database.zip # -q for quiet "
   ]
  },
  {
   "cell_type": "code",
   "execution_count": 7,
   "metadata": {
    "id": "80NjLcUKfzxC"
   },
   "outputs": [],
   "source": [
    "from keras.layers import Input, Lambda, Dense, Flatten, AveragePooling2D, Dropout\r\n",
    "from keras.models import Model\r\n",
    "from keras.applications.vgg19 import VGG19\r\n",
    "from keras.applications.resnet50 import ResNet50\r\n",
    "from keras.applications.vgg16 import preprocess_input\r\n",
    "from keras.preprocessing import image\r\n",
    "from keras.preprocessing.image import ImageDataGenerator, img_to_array\r\n",
    "from keras.models import Sequential\r\n",
    "import numpy as np\r\n",
    "import glob\r\n",
    "import matplotlib.pyplot as plt"
   ]
  },
  {
   "cell_type": "code",
   "execution_count": 8,
   "metadata": {
    "colab": {
     "base_uri": "https://localhost:8080/"
    },
    "id": "Ds1QzcweWsDt",
    "outputId": "3085c963-f73a-4fc9-da8f-ac238f87c242"
   },
   "outputs": [
    {
     "name": "stdout",
     "output_type": "stream",
     "text": [
      "Downloading data from https://storage.googleapis.com/tensorflow/keras-applications/vgg19/vgg19_weights_tf_dim_ordering_tf_kernels_notop.h5\n",
      "80142336/80134624 [==============================] - 1s 0us/step\n",
      "Model: \"model\"\n",
      "_________________________________________________________________\n",
      "Layer (type)                 Output Shape              Param #   \n",
      "=================================================================\n",
      "input_1 (InputLayer)         [(None, 150, 150, 3)]     0         \n",
      "_________________________________________________________________\n",
      "block1_conv1 (Conv2D)        (None, 150, 150, 64)      1792      \n",
      "_________________________________________________________________\n",
      "block1_conv2 (Conv2D)        (None, 150, 150, 64)      36928     \n",
      "_________________________________________________________________\n",
      "block1_pool (MaxPooling2D)   (None, 75, 75, 64)        0         \n",
      "_________________________________________________________________\n",
      "block2_conv1 (Conv2D)        (None, 75, 75, 128)       73856     \n",
      "_________________________________________________________________\n",
      "block2_conv2 (Conv2D)        (None, 75, 75, 128)       147584    \n",
      "_________________________________________________________________\n",
      "block2_pool (MaxPooling2D)   (None, 37, 37, 128)       0         \n",
      "_________________________________________________________________\n",
      "block3_conv1 (Conv2D)        (None, 37, 37, 256)       295168    \n",
      "_________________________________________________________________\n",
      "block3_conv2 (Conv2D)        (None, 37, 37, 256)       590080    \n",
      "_________________________________________________________________\n",
      "block3_conv3 (Conv2D)        (None, 37, 37, 256)       590080    \n",
      "_________________________________________________________________\n",
      "block3_conv4 (Conv2D)        (None, 37, 37, 256)       590080    \n",
      "_________________________________________________________________\n",
      "block3_pool (MaxPooling2D)   (None, 18, 18, 256)       0         \n",
      "_________________________________________________________________\n",
      "block4_conv1 (Conv2D)        (None, 18, 18, 512)       1180160   \n",
      "_________________________________________________________________\n",
      "block4_conv2 (Conv2D)        (None, 18, 18, 512)       2359808   \n",
      "_________________________________________________________________\n",
      "block4_conv3 (Conv2D)        (None, 18, 18, 512)       2359808   \n",
      "_________________________________________________________________\n",
      "block4_conv4 (Conv2D)        (None, 18, 18, 512)       2359808   \n",
      "_________________________________________________________________\n",
      "block4_pool (MaxPooling2D)   (None, 9, 9, 512)         0         \n",
      "_________________________________________________________________\n",
      "block5_conv1 (Conv2D)        (None, 9, 9, 512)         2359808   \n",
      "_________________________________________________________________\n",
      "block5_conv2 (Conv2D)        (None, 9, 9, 512)         2359808   \n",
      "_________________________________________________________________\n",
      "block5_conv3 (Conv2D)        (None, 9, 9, 512)         2359808   \n",
      "_________________________________________________________________\n",
      "block5_conv4 (Conv2D)        (None, 9, 9, 512)         2359808   \n",
      "_________________________________________________________________\n",
      "block5_pool (MaxPooling2D)   (None, 4, 4, 512)         0         \n",
      "_________________________________________________________________\n",
      "flatten (Flatten)            (None, 8192)              0         \n",
      "_________________________________________________________________\n",
      "dense (Dense)                (None, 64)                524352    \n",
      "_________________________________________________________________\n",
      "dense_1 (Dense)              (None, 3)                 195       \n",
      "=================================================================\n",
      "Total params: 20,548,931\n",
      "Trainable params: 524,547\n",
      "Non-trainable params: 20,024,384\n",
      "_________________________________________________________________\n"
     ]
    }
   ],
   "source": [
    "IMAGE_SIZE = [150, 150]\r\n",
    "# add preprocessing layer to the front of VGG\r\n",
    "vgg = VGG19(input_shape=IMAGE_SIZE + [3], weights='imagenet', include_top=False)\r\n",
    "\r\n",
    "# don't train existing weights\r\n",
    "for layer in vgg.layers:\r\n",
    "  layer.trainable = le = True\r\n",
    "\r\n",
    "\r\n",
    "# our layers - you can add more if you want\r\n",
    "layer1 = Flatten()(vgg.output)\r\n",
    "layer2 = Dense(64, activation='relu')(layer1)\r\n",
    "prediction = Dense(3, activation='softmax')(layer2)\r\n",
    "# create a model object\r\n",
    "model = Model(inputs=vgg.input, outputs=prediction)\r\n",
    "\r\n",
    "from keras.optimizers import SGD\r\n",
    "sgd = SGD(lr=0.001, decay=1e-7, momentum=.9)\r\n",
    "# view the structure of the model\r\n",
    "model.summary()\r\n",
    "model.compile(\r\n",
    "  loss='categorical_crossentropy',\r\n",
    "  optimizer= sgd,\r\n",
    "  metrics=['accuracy']\r\n",
    ")"
   ]
  },
  {
   "cell_type": "code",
   "execution_count": 9,
   "metadata": {
    "colab": {
     "base_uri": "https://localhost:8080/"
    },
    "id": "dOV_B3pDqXxs",
    "outputId": "f7e8366c-7cd7-4618-d461-1a47959391e0"
   },
   "outputs": [
    {
     "name": "stdout",
     "output_type": "stream",
     "text": [
      "Found 3109 images belonging to 3 classes.\n",
      "Found 777 images belonging to 3 classes.\n"
     ]
    }
   ],
   "source": [
    "from keras.preprocessing.image import ImageDataGenerator\r\n",
    "\r\n",
    "train_test_datagen = ImageDataGenerator(rescale = 1./255,\r\n",
    "                                  shear_range = 0.2,\r\n",
    "                                  zoom_range = 0.2,\r\n",
    "                                  horizontal_flip = True,\r\n",
    "                                  validation_split = 0.20)\r\n",
    "\r\n",
    "\r\n",
    "training_set = train_test_datagen.flow_from_directory(\"/content/COVID-19 Radiography Database/\",\r\n",
    "                                       batch_size = 64,\r\n",
    "                                       target_size = (150, 150),\r\n",
    "                                       shuffle = True,\r\n",
    "                                       subset = \"training\",\r\n",
    "                                       class_mode='categorical')\r\n",
    "\r\n",
    "test_set = train_test_datagen.flow_from_directory(\"/content/COVID-19 Radiography Database/\",\r\n",
    "                                   batch_size = 64,\r\n",
    "                                   target_size = (150, 150),\r\n",
    "                                   shuffle = False,\r\n",
    "                                   subset = \"validation\",\r\n",
    "                                   class_mode='categorical')\r\n",
    "\r\n"
   ]
  },
  {
   "cell_type": "code",
   "execution_count": 10,
   "metadata": {
    "colab": {
     "base_uri": "https://localhost:8080/"
    },
    "id": "J10YsCuPzwpa",
    "outputId": "0d01a2d1-9329-44e5-d872-47d0a2285b8a"
   },
   "outputs": [
    {
     "name": "stderr",
     "output_type": "stream",
     "text": [
      "/usr/local/lib/python3.6/dist-packages/tensorflow/python/keras/engine/training.py:1844: UserWarning: `Model.fit_generator` is deprecated and will be removed in a future version. Please use `Model.fit`, which supports generators.\n",
      "  warnings.warn('`Model.fit_generator` is deprecated and '\n"
     ]
    },
    {
     "name": "stdout",
     "output_type": "stream",
     "text": [
      "Epoch 1/15\n",
      "49/49 [==============================] - 68s 1s/step - loss: 0.7701 - accuracy: 0.6785 - val_loss: 0.3798 - val_accuracy: 0.8649\n",
      "Epoch 2/15\n",
      "49/49 [==============================] - 62s 1s/step - loss: 0.3537 - accuracy: 0.8730 - val_loss: 0.3051 - val_accuracy: 0.8829\n",
      "Epoch 3/15\n",
      "49/49 [==============================] - 61s 1s/step - loss: 0.2989 - accuracy: 0.8989 - val_loss: 0.2881 - val_accuracy: 0.8958\n",
      "Epoch 4/15\n",
      "49/49 [==============================] - 60s 1s/step - loss: 0.2635 - accuracy: 0.9035 - val_loss: 0.2516 - val_accuracy: 0.9048\n",
      "Epoch 5/15\n",
      "49/49 [==============================] - 60s 1s/step - loss: 0.2576 - accuracy: 0.9110 - val_loss: 0.2440 - val_accuracy: 0.9151\n",
      "Epoch 6/15\n",
      "49/49 [==============================] - 61s 1s/step - loss: 0.2444 - accuracy: 0.9150 - val_loss: 0.2308 - val_accuracy: 0.9151\n",
      "Epoch 7/15\n",
      "49/49 [==============================] - 61s 1s/step - loss: 0.2228 - accuracy: 0.9242 - val_loss: 0.2193 - val_accuracy: 0.9189\n",
      "Epoch 8/15\n",
      "49/49 [==============================] - 61s 1s/step - loss: 0.2282 - accuracy: 0.9175 - val_loss: 0.2190 - val_accuracy: 0.9241\n",
      "Epoch 9/15\n",
      "49/49 [==============================] - 61s 1s/step - loss: 0.2202 - accuracy: 0.9176 - val_loss: 0.2152 - val_accuracy: 0.9189\n",
      "Epoch 10/15\n",
      "49/49 [==============================] - 60s 1s/step - loss: 0.2046 - accuracy: 0.9290 - val_loss: 0.2412 - val_accuracy: 0.8983\n",
      "Epoch 11/15\n",
      "49/49 [==============================] - 59s 1s/step - loss: 0.2082 - accuracy: 0.9270 - val_loss: 0.2200 - val_accuracy: 0.9202\n",
      "Epoch 12/15\n",
      "49/49 [==============================] - 59s 1s/step - loss: 0.1955 - accuracy: 0.9288 - val_loss: 0.2349 - val_accuracy: 0.9125\n",
      "Epoch 13/15\n",
      "49/49 [==============================] - 59s 1s/step - loss: 0.2247 - accuracy: 0.9189 - val_loss: 0.2058 - val_accuracy: 0.9331\n",
      "Epoch 14/15\n",
      "49/49 [==============================] - 59s 1s/step - loss: 0.1852 - accuracy: 0.9389 - val_loss: 0.2201 - val_accuracy: 0.9138\n",
      "Epoch 15/15\n",
      "49/49 [==============================] - 59s 1s/step - loss: 0.1953 - accuracy: 0.9377 - val_loss: 0.2357 - val_accuracy: 0.9189\n"
     ]
    }
   ],
   "source": [
    "r = model.fit_generator(generator=training_set,\r\n",
    "                        validation_data=test_set,\r\n",
    "                        epochs = 15,\r\n",
    "                        steps_per_epoch = len(training_set),\r\n",
    "                        validation_steps = len(test_set))"
   ]
  },
  {
   "cell_type": "code",
   "execution_count": 11,
   "metadata": {
    "id": "JlUSk2nkNIy8"
   },
   "outputs": [],
   "source": [
    "# save the model's trained weights\r\n",
    "#model.save_weights('sequential_model_project_weights_try2.h5')\r\n",
    "#!cp \"/content/sequential_model_project_weights_try2.h5\" \"/content/drive/MyDrive/\""
   ]
  },
  {
   "cell_type": "code",
   "execution_count": 12,
   "metadata": {
    "colab": {
     "base_uri": "https://localhost:8080/",
     "height": 530
    },
    "id": "0RELdMsDhbjP",
    "outputId": "5fe2e834-60f3-4861-d428-f04fca65af22"
   },
   "outputs": [
    {
     "data": {
      "image/png": "[encoded data removed]",
      "text/plain": [
       "<Figure size 432x288 with 1 Axes>"
      ]
     },
     "metadata": {
      "needs_background": "light",
      "tags": []
     },
     "output_type": "display_data"
    },
    {
     "data": {
      "image/png": "[encoded data removed]",
      "text/plain": [
       "<Figure size 432x288 with 1 Axes>"
      ]
     },
     "metadata": {
      "needs_background": "light",
      "tags": []
     },
     "output_type": "display_data"
    },
    {
     "data": {
      "text/plain": [
       "<Figure size 432x288 with 0 Axes>"
      ]
     },
     "metadata": {
      "tags": []
     },
     "output_type": "display_data"
    }
   ],
   "source": [
    "# loss\r\n",
    "plt.plot(r.history['loss'], label='train loss')\r\n",
    "plt.plot(r.history['val_loss'], label='val loss')\r\n",
    "plt.legend()\r\n",
    "plt.show()\r\n",
    "plt.savefig('LossVal_loss')\r\n",
    "\r\n",
    "# accuracies\r\n",
    "plt.plot(r.history['accuracy'], label='train acc')\r\n",
    "plt.plot(r.history['val_accuracy'], label='val acc')\r\n",
    "plt.legend()\r\n",
    "plt.show()\r\n",
    "plt.savefig('AccVal_acc')"
   ]
  },
  {
   "cell_type": "code",
   "execution_count": 13,
   "metadata": {
    "colab": {
     "base_uri": "https://localhost:8080/"
    },
    "id": "CtQK16ojjS_R",
    "outputId": "63aa4d46-f8e7-43b1-d600-63fbf1fe4f64"
   },
   "outputs": [
    {
     "name": "stderr",
     "output_type": "stream",
     "text": [
      "/usr/local/lib/python3.6/dist-packages/tensorflow/python/keras/engine/training.py:1905: UserWarning: `Model.predict_generator` is deprecated and will be removed in a future version. Please use `Model.predict`, which supports generators.\n",
      "  warnings.warn('`Model.predict_generator` is deprecated and '\n"
     ]
    }
   ],
   "source": [
    "pred_original_labels = test_set.classes\r\n",
    "\r\n",
    "pred_label = model.predict_generator(test_set)\r\n"
   ]
  },
  {
   "cell_type": "code",
   "execution_count": 14,
   "metadata": {
    "colab": {
     "base_uri": "https://localhost:8080/"
    },
    "id": "3nhrOHGEjT3s",
    "outputId": "9343baa2-f665-4ebe-f081-23cb0dea4df7"
   },
   "outputs": [
    {
     "name": "stdout",
     "output_type": "stream",
     "text": [
      "                 precision    recall  f1-score   support\n",
      "\n",
      "          COVID       0.98      0.97      0.98       240\n",
      "         NORMAL       0.85      0.96      0.90       268\n",
      "Viral Pneumonia       0.94      0.83      0.88       269\n",
      "\n",
      "       accuracy                           0.92       777\n",
      "      macro avg       0.93      0.92      0.92       777\n",
      "   weighted avg       0.92      0.92      0.92       777\n",
      "\n",
      "Confusion Matrix\n",
      "[[234   1   5]\n",
      " [  2 257   9]\n",
      " [  2  44 223]]\n"
     ]
    }
   ],
   "source": [
    "# Plotting the confusion matrix\r\n",
    "from sklearn import metrics\r\n",
    "from sklearn.metrics import confusion_matrix\r\n",
    "y_pred = np.argmax(pred_label, axis=1)\r\n",
    "class_labels = list(test_set.class_indices.keys()) \r\n",
    "report = metrics.classification_report(pred_original_labels, y_pred, target_names=class_labels)\r\n",
    "print(report) \r\n",
    "\r\n",
    "print('Confusion Matrix')\r\n",
    "print(confusion_matrix(test_set.classes, y_pred))"
   ]
  }
 ],
 "metadata": {
  "accelerator": "GPU",
  "colab": {
   "collapsed_sections": [],
   "name": "CV Covid Project.ipynb",
   "provenance": []
  },
  "kernelspec": {
   "display_name": "Python 3",
   "language": "python",
   "name": "python3"
  },
  "language_info": {
   "codemirror_mode": {
    "name": "ipython",
    "version": 3
   },
   "file_extension": ".py",
   "mimetype": "text/x-python",
   "name": "python",
   "nbconvert_exporter": "python",
   "pygments_lexer": "ipython3",
   "version": "3.7.6"
  }
 },
 "nbformat": 4,
 "nbformat_minor": 4
}

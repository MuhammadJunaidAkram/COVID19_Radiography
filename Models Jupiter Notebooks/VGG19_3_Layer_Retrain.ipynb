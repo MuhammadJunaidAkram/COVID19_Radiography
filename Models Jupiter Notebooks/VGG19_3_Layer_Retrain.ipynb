{
 "cells": [
  {
   "cell_type": "code",
   "execution_count": 1,
   "metadata": {
    "colab": {
     "base_uri": "https://localhost:8080/"
    },
    "id": "TOG2VaLub55l",
    "outputId": "51a79b8e-d361-45bb-dae2-055f565ceea8"
   },
   "outputs": [
    {
     "name": "stdout",
     "output_type": "stream",
     "text": [
      "Drive already mounted at /content/drive; to attempt to forcibly remount, call drive.mount(\"/content/drive\", force_remount=True).\n"
     ]
    }
   ],
   "source": [
    "from google.colab import drive \r\n",
    "drive.mount('/content/drive')"
   ]
  },
  {
   "cell_type": "code",
   "execution_count": 2,
   "metadata": {
    "id": "cvtvjRoMc04d"
   },
   "outputs": [],
   "source": [
    "#from google.colab import files\r\n",
    "#files.upload()"
   ]
  },
  {
   "cell_type": "code",
   "execution_count": 3,
   "metadata": {
    "id": "lmikhmj-c5hF"
   },
   "outputs": [],
   "source": [
    "#!mkdir ~/.kaggle #created at root folder in colab"
   ]
  },
  {
   "cell_type": "code",
   "execution_count": 4,
   "metadata": {
    "id": "xIPG7bvldyJ1"
   },
   "outputs": [],
   "source": [
    "#copy\r\n",
    "#!cp kaggle.json ~/.kaggle\r\n",
    "#!chmod 600 ~/.kaggle/kaggle.json"
   ]
  },
  {
   "cell_type": "code",
   "execution_count": 5,
   "metadata": {
    "id": "KlFMo4Iwd9mA"
   },
   "outputs": [],
   "source": [
    "#!kaggle datasets download -d tawsifurrahman/covid19-radiography-database"
   ]
  },
  {
   "cell_type": "code",
   "execution_count": 6,
   "metadata": {
    "id": "1-Yd8yCHfaXL"
   },
   "outputs": [],
   "source": [
    "#unzip dataset in colab session\r\n",
    "#!unzip -q covid19-radiography-database.zip # -q for quiet "
   ]
  },
  {
   "cell_type": "code",
   "execution_count": 7,
   "metadata": {
    "id": "80NjLcUKfzxC"
   },
   "outputs": [],
   "source": [
    "from keras.layers import Input, Lambda, Dense, Flatten, AveragePooling2D, Dropout\r\n",
    "from keras.models import Model\r\n",
    "from keras.applications.vgg19 import VGG19\r\n",
    "from keras.applications.resnet50 import ResNet50\r\n",
    "from keras.applications.vgg16 import preprocess_input\r\n",
    "from keras.preprocessing import image\r\n",
    "from keras.preprocessing.image import ImageDataGenerator, img_to_array\r\n",
    "from keras.models import Sequential\r\n",
    "import numpy as np\r\n",
    "import glob\r\n",
    "import matplotlib.pyplot as plt"
   ]
  },
  {
   "cell_type": "code",
   "execution_count": 8,
   "metadata": {
    "colab": {
     "base_uri": "https://localhost:8080/"
    },
    "id": "Ds1QzcweWsDt",
    "outputId": "234109b5-d456-44ba-9e9b-10bf59439e8f"
   },
   "outputs": [
    {
     "name": "stdout",
     "output_type": "stream",
     "text": [
      "Model: \"model\"\n",
      "_________________________________________________________________\n",
      "Layer (type)                 Output Shape              Param #   \n",
      "=================================================================\n",
      "input_1 (InputLayer)         [(None, 150, 150, 3)]     0         \n",
      "_________________________________________________________________\n",
      "block1_conv1 (Conv2D)        (None, 150, 150, 64)      1792      \n",
      "_________________________________________________________________\n",
      "block1_conv2 (Conv2D)        (None, 150, 150, 64)      36928     \n",
      "_________________________________________________________________\n",
      "block1_pool (MaxPooling2D)   (None, 75, 75, 64)        0         \n",
      "_________________________________________________________________\n",
      "block2_conv1 (Conv2D)        (None, 75, 75, 128)       73856     \n",
      "_________________________________________________________________\n",
      "block2_conv2 (Conv2D)        (None, 75, 75, 128)       147584    \n",
      "_________________________________________________________________\n",
      "block2_pool (MaxPooling2D)   (None, 37, 37, 128)       0         \n",
      "_________________________________________________________________\n",
      "block3_conv1 (Conv2D)        (None, 37, 37, 256)       295168    \n",
      "_________________________________________________________________\n",
      "block3_conv2 (Conv2D)        (None, 37, 37, 256)       590080    \n",
      "_________________________________________________________________\n",
      "block3_conv3 (Conv2D)        (None, 37, 37, 256)       590080    \n",
      "_________________________________________________________________\n",
      "block3_conv4 (Conv2D)        (None, 37, 37, 256)       590080    \n",
      "_________________________________________________________________\n",
      "block3_pool (MaxPooling2D)   (None, 18, 18, 256)       0         \n",
      "_________________________________________________________________\n",
      "block4_conv1 (Conv2D)        (None, 18, 18, 512)       1180160   \n",
      "_________________________________________________________________\n",
      "block4_conv2 (Conv2D)        (None, 18, 18, 512)       2359808   \n",
      "_________________________________________________________________\n",
      "block4_conv3 (Conv2D)        (None, 18, 18, 512)       2359808   \n",
      "_________________________________________________________________\n",
      "block4_conv4 (Conv2D)        (None, 18, 18, 512)       2359808   \n",
      "_________________________________________________________________\n",
      "block4_pool (MaxPooling2D)   (None, 9, 9, 512)         0         \n",
      "_________________________________________________________________\n",
      "block5_conv1 (Conv2D)        (None, 9, 9, 512)         2359808   \n",
      "_________________________________________________________________\n",
      "block5_conv2 (Conv2D)        (None, 9, 9, 512)         2359808   \n",
      "_________________________________________________________________\n",
      "block5_conv3 (Conv2D)        (None, 9, 9, 512)         2359808   \n",
      "_________________________________________________________________\n",
      "block5_conv4 (Conv2D)        (None, 9, 9, 512)         2359808   \n",
      "_________________________________________________________________\n",
      "block5_pool (MaxPooling2D)   (None, 4, 4, 512)         0         \n",
      "_________________________________________________________________\n",
      "flatten (Flatten)            (None, 8192)              0         \n",
      "_________________________________________________________________\n",
      "dense (Dense)                (None, 64)                524352    \n",
      "_________________________________________________________________\n",
      "dense_1 (Dense)              (None, 3)                 195       \n",
      "=================================================================\n",
      "Total params: 20,548,931\n",
      "Trainable params: 7,603,971\n",
      "Non-trainable params: 12,944,960\n",
      "_________________________________________________________________\n"
     ]
    }
   ],
   "source": [
    "IMAGE_SIZE = [150, 150]\r\n",
    "# add preprocessing layer to the front of VGG\r\n",
    "vgg = VGG19(input_shape=IMAGE_SIZE + [3], weights='imagenet', include_top=False)\r\n",
    "\r\n",
    "# don't train existing weights\r\n",
    "for layer in vgg.layers:\r\n",
    "  layer.trainable = False\r\n",
    "\r\n",
    "\r\n",
    "vgg.get_layer('block5_conv4').trainable = True\r\n",
    "vgg.get_layer('block5_conv3').trainable = True\r\n",
    "vgg.get_layer('block5_conv2').trainable = True\r\n",
    "\r\n",
    "\r\n",
    "# our layers - you can add more if you want\r\n",
    "layer1 = Flatten()(vgg.output)\r\n",
    "layer2 = Dense(64, activation='relu')(layer1)\r\n",
    "prediction = Dense(3, activation='softmax')(layer2)\r\n",
    "# create a model object\r\n",
    "model = Model(inputs=vgg.input, outputs=prediction)\r\n",
    "\r\n",
    "from keras.optimizers import SGD\r\n",
    "sgd = SGD(lr=0.001, decay=1e-7, momentum=.9)\r\n",
    "# view the structure of the model\r\n",
    "model.summary()\r\n",
    "model.compile(\r\n",
    "  loss='categorical_crossentropy',\r\n",
    "  optimizer= sgd,\r\n",
    "  metrics=['accuracy']\r\n",
    ")"
   ]
  },
  {
   "cell_type": "code",
   "execution_count": 9,
   "metadata": {
    "colab": {
     "base_uri": "https://localhost:8080/"
    },
    "id": "dOV_B3pDqXxs",
    "outputId": "41bdb295-9252-45cc-8f23-178873458aec"
   },
   "outputs": [
    {
     "name": "stdout",
     "output_type": "stream",
     "text": [
      "Found 3109 images belonging to 3 classes.\n",
      "Found 777 images belonging to 3 classes.\n"
     ]
    }
   ],
   "source": [
    "from keras.preprocessing.image import ImageDataGenerator\r\n",
    "\r\n",
    "train_test_datagen = ImageDataGenerator(rescale = 1./255,\r\n",
    "                                  shear_range = 0.2,\r\n",
    "                                  zoom_range = 0.2,\r\n",
    "                                  horizontal_flip = True,\r\n",
    "                                  validation_split = 0.20)\r\n",
    "\r\n",
    "\r\n",
    "training_set = train_test_datagen.flow_from_directory(\"/content/COVID-19 Radiography Database/\",\r\n",
    "                                       batch_size = 64,\r\n",
    "                                       target_size = (150, 150),\r\n",
    "                                       shuffle = True,\r\n",
    "                                       subset = \"training\",\r\n",
    "                                       class_mode='categorical')\r\n",
    "\r\n",
    "test_set = train_test_datagen.flow_from_directory(\"/content/COVID-19 Radiography Database/\",\r\n",
    "                                   batch_size = 64,\r\n",
    "                                   target_size = (150, 150),\r\n",
    "                                   shuffle = False,\r\n",
    "                                   subset = \"validation\",\r\n",
    "                                   class_mode='categorical')\r\n",
    "\r\n"
   ]
  },
  {
   "cell_type": "code",
   "execution_count": 10,
   "metadata": {
    "colab": {
     "base_uri": "https://localhost:8080/"
    },
    "id": "J10YsCuPzwpa",
    "outputId": "cfff7b4b-03b6-4e70-8597-db2e555f6bce"
   },
   "outputs": [
    {
     "name": "stderr",
     "output_type": "stream",
     "text": [
      "/usr/local/lib/python3.6/dist-packages/tensorflow/python/keras/engine/training.py:1844: UserWarning: `Model.fit_generator` is deprecated and will be removed in a future version. Please use `Model.fit`, which supports generators.\n",
      "  warnings.warn('`Model.fit_generator` is deprecated and '\n"
     ]
    },
    {
     "name": "stdout",
     "output_type": "stream",
     "text": [
      "Epoch 1/15\n",
      "49/49 [==============================] - 64s 1s/step - loss: 0.8642 - accuracy: 0.5790 - val_loss: 0.3064 - val_accuracy: 0.8867\n",
      "Epoch 2/15\n",
      "49/49 [==============================] - 59s 1s/step - loss: 0.2463 - accuracy: 0.9085 - val_loss: 0.2702 - val_accuracy: 0.8842\n",
      "Epoch 3/15\n",
      "49/49 [==============================] - 58s 1s/step - loss: 0.2105 - accuracy: 0.9241 - val_loss: 0.1667 - val_accuracy: 0.9318\n",
      "Epoch 4/15\n",
      "49/49 [==============================] - 58s 1s/step - loss: 0.2191 - accuracy: 0.9252 - val_loss: 0.1770 - val_accuracy: 0.9292\n",
      "Epoch 5/15\n",
      "49/49 [==============================] - 58s 1s/step - loss: 0.1559 - accuracy: 0.9472 - val_loss: 0.1548 - val_accuracy: 0.9511\n",
      "Epoch 6/15\n",
      "49/49 [==============================] - 58s 1s/step - loss: 0.1355 - accuracy: 0.9558 - val_loss: 0.1971 - val_accuracy: 0.9215\n",
      "Epoch 7/15\n",
      "49/49 [==============================] - 58s 1s/step - loss: 0.1570 - accuracy: 0.9428 - val_loss: 0.1552 - val_accuracy: 0.9395\n",
      "Epoch 8/15\n",
      "49/49 [==============================] - 58s 1s/step - loss: 0.1630 - accuracy: 0.9425 - val_loss: 0.1633 - val_accuracy: 0.9459\n",
      "Epoch 9/15\n",
      "49/49 [==============================] - 58s 1s/step - loss: 0.1515 - accuracy: 0.9513 - val_loss: 0.1483 - val_accuracy: 0.9511\n",
      "Epoch 10/15\n",
      "49/49 [==============================] - 58s 1s/step - loss: 0.1545 - accuracy: 0.9442 - val_loss: 0.1595 - val_accuracy: 0.9434\n",
      "Epoch 11/15\n",
      "49/49 [==============================] - 58s 1s/step - loss: 0.1427 - accuracy: 0.9530 - val_loss: 0.1512 - val_accuracy: 0.9472\n",
      "Epoch 12/15\n",
      "49/49 [==============================] - 58s 1s/step - loss: 0.1329 - accuracy: 0.9522 - val_loss: 0.1582 - val_accuracy: 0.9459\n",
      "Epoch 13/15\n",
      "49/49 [==============================] - 58s 1s/step - loss: 0.1048 - accuracy: 0.9609 - val_loss: 0.1831 - val_accuracy: 0.9356\n",
      "Epoch 14/15\n",
      "49/49 [==============================] - 58s 1s/step - loss: 0.1201 - accuracy: 0.9560 - val_loss: 0.1809 - val_accuracy: 0.9266\n",
      "Epoch 15/15\n",
      "49/49 [==============================] - 57s 1s/step - loss: 0.1171 - accuracy: 0.9596 - val_loss: 0.1446 - val_accuracy: 0.9459\n"
     ]
    }
   ],
   "source": [
    "r = model.fit_generator(generator=training_set,\r\n",
    "                        validation_data=test_set,\r\n",
    "                        epochs = 15,\r\n",
    "                        steps_per_epoch = len(training_set),\r\n",
    "                        validation_steps = len(test_set))"
   ]
  },
  {
   "cell_type": "code",
   "execution_count": 11,
   "metadata": {
    "id": "JlUSk2nkNIy8"
   },
   "outputs": [],
   "source": [
    "# save the model's trained weights\r\n",
    "#model.save_weights('sequential_model_project_weights_try2.h5')\r\n",
    "#!cp \"/content/sequential_model_project_weights_try2.h5\" \"/content/drive/MyDrive/\""
   ]
  },
  {
   "cell_type": "code",
   "execution_count": 12,
   "metadata": {
    "colab": {
     "base_uri": "https://localhost:8080/",
     "height": 530
    },
    "id": "0RELdMsDhbjP",
    "outputId": "3c841ffc-ee6d-40c5-d3e8-6470ad3c657e"
   },
   "outputs": [
    {
     "data": {
      "image/png": "[encoded data removed]",
      "text/plain": [
       "<Figure size 432x288 with 1 Axes>"
      ]
     },
     "metadata": {
      "needs_background": "light",
      "tags": []
     },
     "output_type": "display_data"
    },
    {
     "data": {
      "image/png": "[encoded data removed]",
      "text/plain": [
       "<Figure size 432x288 with 1 Axes>"
      ]
     },
     "metadata": {
      "needs_background": "light",
      "tags": []
     },
     "output_type": "display_data"
    },
    {
     "data": {
      "text/plain": [
       "<Figure size 432x288 with 0 Axes>"
      ]
     },
     "metadata": {
      "tags": []
     },
     "output_type": "display_data"
    }
   ],
   "source": [
    "# loss\r\n",
    "plt.plot(r.history['loss'], label='train loss')\r\n",
    "plt.plot(r.history['val_loss'], label='val loss')\r\n",
    "plt.legend()\r\n",
    "plt.show()\r\n",
    "plt.savefig('LossVal_loss')\r\n",
    "\r\n",
    "# accuracies\r\n",
    "plt.plot(r.history['accuracy'], label='train acc')\r\n",
    "plt.plot(r.history['val_accuracy'], label='val acc')\r\n",
    "plt.legend()\r\n",
    "plt.show()\r\n",
    "plt.savefig('AccVal_acc')"
   ]
  },
  {
   "cell_type": "code",
   "execution_count": 13,
   "metadata": {
    "colab": {
     "base_uri": "https://localhost:8080/"
    },
    "id": "CtQK16ojjS_R",
    "outputId": "78ee5cb4-8cc3-4889-d197-3a818cf25169"
   },
   "outputs": [
    {
     "name": "stderr",
     "output_type": "stream",
     "text": [
      "/usr/local/lib/python3.6/dist-packages/tensorflow/python/keras/engine/training.py:1905: UserWarning: `Model.predict_generator` is deprecated and will be removed in a future version. Please use `Model.predict`, which supports generators.\n",
      "  warnings.warn('`Model.predict_generator` is deprecated and '\n"
     ]
    }
   ],
   "source": [
    "pred_original_labels = test_set.classes\r\n",
    "\r\n",
    "pred_label = model.predict_generator(test_set)\r\n"
   ]
  },
  {
   "cell_type": "code",
   "execution_count": 14,
   "metadata": {
    "colab": {
     "base_uri": "https://localhost:8080/"
    },
    "id": "3nhrOHGEjT3s",
    "outputId": "e80d183a-5271-4c3c-9997-e2659f46892f"
   },
   "outputs": [
    {
     "name": "stdout",
     "output_type": "stream",
     "text": [
      "                 precision    recall  f1-score   support\n",
      "\n",
      "          COVID       1.00      0.99      1.00       240\n",
      "         NORMAL       0.90      0.99      0.94       268\n",
      "Viral Pneumonia       0.98      0.90      0.94       269\n",
      "\n",
      "       accuracy                           0.96       777\n",
      "      macro avg       0.96      0.96      0.96       777\n",
      "   weighted avg       0.96      0.96      0.96       777\n",
      "\n",
      "Confusion Matrix\n",
      "[[238   1   1]\n",
      " [  0 264   4]\n",
      " [  0  28 241]]\n"
     ]
    }
   ],
   "source": [
    "# Plotting the confusion matrix\r\n",
    "from sklearn import metrics\r\n",
    "from sklearn.metrics import confusion_matrix\r\n",
    "y_pred = np.argmax(pred_label, axis=1)\r\n",
    "class_labels = list(test_set.class_indices.keys()) \r\n",
    "report = metrics.classification_report(pred_original_labels, y_pred, target_names=class_labels)\r\n",
    "print(report) \r\n",
    "\r\n",
    "print('Confusion Matrix')\r\n",
    "print(confusion_matrix(test_set.classes, y_pred))"
   ]
  }
 ],
 "metadata": {
  "accelerator": "GPU",
  "colab": {
   "collapsed_sections": [],
   "name": "CV_Covid_Project (1).ipynb",
   "provenance": []
  },
  "kernelspec": {
   "display_name": "Python 3",
   "language": "python",
   "name": "python3"
  },
  "language_info": {
   "codemirror_mode": {
    "name": "ipython",
    "version": 3
   },
   "file_extension": ".py",
   "mimetype": "text/x-python",
   "name": "python",
   "nbconvert_exporter": "python",
   "pygments_lexer": "ipython3",
   "version": "3.7.6"
  }
 },
 "nbformat": 4,
 "nbformat_minor": 4
}
